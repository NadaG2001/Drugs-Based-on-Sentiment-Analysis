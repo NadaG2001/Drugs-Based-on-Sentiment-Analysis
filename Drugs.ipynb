{
 "cells": [
  {
   "cell_type": "markdown",
   "id": "fe4a7159",
   "metadata": {
    "id": "fe4a7159"
   },
   "source": [
    "<center><h1>Drug Review Using Sentiment Analysis</h1></center>"
   ]
  },
  {
   "cell_type": "code",
   "execution_count": null,
   "id": "iZ9iU9J2KF1M",
   "metadata": {
    "colab": {
     "base_uri": "https://localhost:8080/"
    },
    "id": "iZ9iU9J2KF1M",
    "outputId": "e645f584-4302-488c-bac1-e051ed3c973f"
   },
   "outputs": [
    {
     "name": "stdout",
     "output_type": "stream",
     "text": [
      "Drive already mounted at /content/drive; to attempt to forcibly remount, call drive.mount(\"/content/drive\", force_remount=True).\n"
     ]
    }
   ],
   "source": [
    "from google.colab import drive\n",
    "drive.mount('/content/drive')"
   ]
  },
  {
   "cell_type": "markdown",
   "id": "11e6ed60",
   "metadata": {
    "id": "11e6ed60"
   },
   "source": [
    "- In this project, we aim to perform Sentiment Analysis of Drug reviews. Data used in this project are\n",
    "  online product reviews collected from “amazon.com”. We expect to do review-level categorization of review \n",
    "  data with promising outcomes."
   ]
  },
  {
   "cell_type": "markdown",
   "id": "26f74270",
   "metadata": {
    "id": "26f74270"
   },
   "source": [
    "- Sentiment Analysis also known as Opinion Mining refers to the use of natural language processing, \n",
    "  text analysis to systematically identify, extract, quantify, \n",
    "  and study affective states and subjective information."
   ]
  },
  {
   "cell_type": "markdown",
   "id": "20cf52a1",
   "metadata": {
    "id": "20cf52a1"
   },
   "source": [
    "## Import Libraries"
   ]
  },
  {
   "cell_type": "code",
   "execution_count": null,
   "id": "1b29b5f9",
   "metadata": {
    "id": "1b29b5f9"
   },
   "outputs": [],
   "source": [
    "import numpy as np\n",
    "import pandas as pd\n",
    "import matplotlib.pyplot as plt\n",
    "import seaborn as sns\n",
    "%matplotlib inline\n",
    "import spacy\n",
    "import string\n",
    "from nltk.corpus import stopwords\n",
    "from collections import Counter\n",
    "from nltk.stem.porter import PorterStemmer\n",
    "import warnings\n",
    "warnings.filterwarnings(\"ignore\")"
   ]
  },
  {
   "cell_type": "markdown",
   "id": "06f08f46",
   "metadata": {
    "id": "06f08f46"
   },
   "source": [
    "## importing Dataset"
   ]
  },
  {
   "cell_type": "code",
   "execution_count": null,
   "id": "e77fc4cd",
   "metadata": {
    "id": "e77fc4cd"
   },
   "outputs": [],
   "source": [
    "train_df = pd.read_csv('/content/drive/MyDrive/drugsComTrain_raw.tsv',delimiter='\\t')\n",
    "test_df = pd.read_csv('/content/drive/MyDrive/drugsComTest_raw.tsv', delimiter='\\t')"
   ]
  },
  {
   "cell_type": "markdown",
   "id": "1c678d0a",
   "metadata": {
    "id": "1c678d0a"
   },
   "source": [
    "To simplify Data Understanding and Data Preprocessing we can merge train and test data, \n",
    "as there are no target labels."
   ]
  },
  {
   "cell_type": "markdown",
   "id": "ecba818e",
   "metadata": {
    "id": "ecba818e"
   },
   "source": [
    "## Merge Train and Test data"
   ]
  },
  {
   "cell_type": "code",
   "execution_count": null,
   "id": "b45b14dc",
   "metadata": {
    "id": "b45b14dc"
   },
   "outputs": [],
   "source": [
    "# Merge train and test data\n",
    "merge = [train_df, test_df]\n",
    "df = pd.concat(merge, ignore_index = True)"
   ]
  },
  {
   "cell_type": "code",
   "execution_count": null,
   "id": "1fcd4c18",
   "metadata": {
    "colab": {
     "base_uri": "https://localhost:8080/"
    },
    "id": "1fcd4c18",
    "outputId": "ea6fdd1c-5f93-4830-b86d-ee3dfd845228"
   },
   "outputs": [
    {
     "data": {
      "text/plain": [
       "(215063, 7)"
      ]
     },
     "execution_count": 7,
     "metadata": {},
     "output_type": "execute_result"
    }
   ],
   "source": [
    "# Check the shape of merged data\n",
    "df.shape"
   ]
  },
  {
   "cell_type": "code",
   "execution_count": null,
   "id": "c2c214fe",
   "metadata": {
    "colab": {
     "base_uri": "https://localhost:8080/",
     "height": 250
    },
    "id": "c2c214fe",
    "outputId": "4db74131-d666-4b05-bbd2-55fdbf33e3fa"
   },
   "outputs": [
    {
     "data": {
      "text/html": [
       "\n",
       "  <div id=\"df-94d37c32-1320-4a92-bcf8-f6a44bd472c3\">\n",
       "    <div class=\"colab-df-container\">\n",
       "      <div>\n",
       "<style scoped>\n",
       "    .dataframe tbody tr th:only-of-type {\n",
       "        vertical-align: middle;\n",
       "    }\n",
       "\n",
       "    .dataframe tbody tr th {\n",
       "        vertical-align: top;\n",
       "    }\n",
       "\n",
       "    .dataframe thead th {\n",
       "        text-align: right;\n",
       "    }\n",
       "</style>\n",
       "<table border=\"1\" class=\"dataframe\">\n",
       "  <thead>\n",
       "    <tr style=\"text-align: right;\">\n",
       "      <th></th>\n",
       "      <th>Unnamed: 0</th>\n",
       "      <th>drugName</th>\n",
       "      <th>condition</th>\n",
       "      <th>review</th>\n",
       "      <th>rating</th>\n",
       "      <th>date</th>\n",
       "      <th>usefulCount</th>\n",
       "    </tr>\n",
       "  </thead>\n",
       "  <tbody>\n",
       "    <tr>\n",
       "      <th>0</th>\n",
       "      <td>206461</td>\n",
       "      <td>Valsartan</td>\n",
       "      <td>Left Ventricular Dysfunction</td>\n",
       "      <td>\"It has no side effect, I take it in combinati...</td>\n",
       "      <td>9.0</td>\n",
       "      <td>May 20, 2012</td>\n",
       "      <td>27</td>\n",
       "    </tr>\n",
       "    <tr>\n",
       "      <th>1</th>\n",
       "      <td>95260</td>\n",
       "      <td>Guanfacine</td>\n",
       "      <td>ADHD</td>\n",
       "      <td>\"My son is halfway through his fourth week of ...</td>\n",
       "      <td>8.0</td>\n",
       "      <td>April 27, 2010</td>\n",
       "      <td>192</td>\n",
       "    </tr>\n",
       "    <tr>\n",
       "      <th>2</th>\n",
       "      <td>92703</td>\n",
       "      <td>Lybrel</td>\n",
       "      <td>Birth Control</td>\n",
       "      <td>\"I used to take another oral contraceptive, wh...</td>\n",
       "      <td>5.0</td>\n",
       "      <td>December 14, 2009</td>\n",
       "      <td>17</td>\n",
       "    </tr>\n",
       "    <tr>\n",
       "      <th>3</th>\n",
       "      <td>138000</td>\n",
       "      <td>Ortho Evra</td>\n",
       "      <td>Birth Control</td>\n",
       "      <td>\"This is my first time using any form of birth...</td>\n",
       "      <td>8.0</td>\n",
       "      <td>November 3, 2015</td>\n",
       "      <td>10</td>\n",
       "    </tr>\n",
       "    <tr>\n",
       "      <th>4</th>\n",
       "      <td>35696</td>\n",
       "      <td>Buprenorphine / naloxone</td>\n",
       "      <td>Opiate Dependence</td>\n",
       "      <td>\"Suboxone has completely turned my life around...</td>\n",
       "      <td>9.0</td>\n",
       "      <td>November 27, 2016</td>\n",
       "      <td>37</td>\n",
       "    </tr>\n",
       "  </tbody>\n",
       "</table>\n",
       "</div>\n",
       "      <button class=\"colab-df-convert\" onclick=\"convertToInteractive('df-94d37c32-1320-4a92-bcf8-f6a44bd472c3')\"\n",
       "              title=\"Convert this dataframe to an interactive table.\"\n",
       "              style=\"display:none;\">\n",
       "        \n",
       "  <svg xmlns=\"http://www.w3.org/2000/svg\" height=\"24px\"viewBox=\"0 0 24 24\"\n",
       "       width=\"24px\">\n",
       "    <path d=\"M0 0h24v24H0V0z\" fill=\"none\"/>\n",
       "    <path d=\"M18.56 5.44l.94 2.06.94-2.06 2.06-.94-2.06-.94-.94-2.06-.94 2.06-2.06.94zm-11 1L8.5 8.5l.94-2.06 2.06-.94-2.06-.94L8.5 2.5l-.94 2.06-2.06.94zm10 10l.94 2.06.94-2.06 2.06-.94-2.06-.94-.94-2.06-.94 2.06-2.06.94z\"/><path d=\"M17.41 7.96l-1.37-1.37c-.4-.4-.92-.59-1.43-.59-.52 0-1.04.2-1.43.59L10.3 9.45l-7.72 7.72c-.78.78-.78 2.05 0 2.83L4 21.41c.39.39.9.59 1.41.59.51 0 1.02-.2 1.41-.59l7.78-7.78 2.81-2.81c.8-.78.8-2.07 0-2.86zM5.41 20L4 18.59l7.72-7.72 1.47 1.35L5.41 20z\"/>\n",
       "  </svg>\n",
       "      </button>\n",
       "      \n",
       "  <style>\n",
       "    .colab-df-container {\n",
       "      display:flex;\n",
       "      flex-wrap:wrap;\n",
       "      gap: 12px;\n",
       "    }\n",
       "\n",
       "    .colab-df-convert {\n",
       "      background-color: #E8F0FE;\n",
       "      border: none;\n",
       "      border-radius: 50%;\n",
       "      cursor: pointer;\n",
       "      display: none;\n",
       "      fill: #1967D2;\n",
       "      height: 32px;\n",
       "      padding: 0 0 0 0;\n",
       "      width: 32px;\n",
       "    }\n",
       "\n",
       "    .colab-df-convert:hover {\n",
       "      background-color: #E2EBFA;\n",
       "      box-shadow: 0px 1px 2px rgba(60, 64, 67, 0.3), 0px 1px 3px 1px rgba(60, 64, 67, 0.15);\n",
       "      fill: #174EA6;\n",
       "    }\n",
       "\n",
       "    [theme=dark] .colab-df-convert {\n",
       "      background-color: #3B4455;\n",
       "      fill: #D2E3FC;\n",
       "    }\n",
       "\n",
       "    [theme=dark] .colab-df-convert:hover {\n",
       "      background-color: #434B5C;\n",
       "      box-shadow: 0px 1px 3px 1px rgba(0, 0, 0, 0.15);\n",
       "      filter: drop-shadow(0px 1px 2px rgba(0, 0, 0, 0.3));\n",
       "      fill: #FFFFFF;\n",
       "    }\n",
       "  </style>\n",
       "\n",
       "      <script>\n",
       "        const buttonEl =\n",
       "          document.querySelector('#df-94d37c32-1320-4a92-bcf8-f6a44bd472c3 button.colab-df-convert');\n",
       "        buttonEl.style.display =\n",
       "          google.colab.kernel.accessAllowed ? 'block' : 'none';\n",
       "\n",
       "        async function convertToInteractive(key) {\n",
       "          const element = document.querySelector('#df-94d37c32-1320-4a92-bcf8-f6a44bd472c3');\n",
       "          const dataTable =\n",
       "            await google.colab.kernel.invokeFunction('convertToInteractive',\n",
       "                                                     [key], {});\n",
       "          if (!dataTable) return;\n",
       "\n",
       "          const docLinkHtml = 'Like what you see? Visit the ' +\n",
       "            '<a target=\"_blank\" href=https://colab.research.google.com/notebooks/data_table.ipynb>data table notebook</a>'\n",
       "            + ' to learn more about interactive tables.';\n",
       "          element.innerHTML = '';\n",
       "          dataTable['output_type'] = 'display_data';\n",
       "          await google.colab.output.renderOutput(dataTable, element);\n",
       "          const docLink = document.createElement('div');\n",
       "          docLink.innerHTML = docLinkHtml;\n",
       "          element.appendChild(docLink);\n",
       "        }\n",
       "      </script>\n",
       "    </div>\n",
       "  </div>\n",
       "  "
      ],
      "text/plain": [
       "   Unnamed: 0                  drugName                     condition  \\\n",
       "0      206461                 Valsartan  Left Ventricular Dysfunction   \n",
       "1       95260                Guanfacine                          ADHD   \n",
       "2       92703                    Lybrel                 Birth Control   \n",
       "3      138000                Ortho Evra                 Birth Control   \n",
       "4       35696  Buprenorphine / naloxone             Opiate Dependence   \n",
       "\n",
       "                                              review  rating  \\\n",
       "0  \"It has no side effect, I take it in combinati...     9.0   \n",
       "1  \"My son is halfway through his fourth week of ...     8.0   \n",
       "2  \"I used to take another oral contraceptive, wh...     5.0   \n",
       "3  \"This is my first time using any form of birth...     8.0   \n",
       "4  \"Suboxone has completely turned my life around...     9.0   \n",
       "\n",
       "                date  usefulCount  \n",
       "0       May 20, 2012           27  \n",
       "1     April 27, 2010          192  \n",
       "2  December 14, 2009           17  \n",
       "3   November 3, 2015           10  \n",
       "4  November 27, 2016           37  "
      ]
     },
     "execution_count": 8,
     "metadata": {},
     "output_type": "execute_result"
    }
   ],
   "source": [
    "df.head()"
   ]
  },
  {
   "cell_type": "code",
   "execution_count": null,
   "id": "938ac7f7",
   "metadata": {
    "id": "938ac7f7"
   },
   "outputs": [],
   "source": [
    "class dframe_Preprocessor():\n",
    "\n",
    "    \n",
    "    def __init__(self,n_rare_words):\n",
    "        self.n_rare_words = 10\n",
    "        \n",
    "        \n",
    "        print(\"Preprocessor object created\")\n",
    "        \n",
    "\n",
    "    def __remove_punctuation(self,text):\n",
    "        \n",
    "        PUNCT_TO_REMOVE = string.punctuation\n",
    "        \"\"\"custom function to remove the punctuation\"\"\"\n",
    "        return text.translate(str.maketrans('', '', PUNCT_TO_REMOVE))\n",
    "\n",
    "    def __remove_stopwords(self,text):\n",
    "        \n",
    "        STOPWORDS = set(stopwords.words('english'))\n",
    "        \"\"\"custom function to remove the stopwords\"\"\"\n",
    "        return \" \".join([word for word in str(text).split() if word not in STOPWORDS])\n",
    "\n",
    "    def Get_Most_Commom(self,data):\n",
    "        \n",
    "        cnt = Counter()\n",
    "        for text in df[\"review\"].values:\n",
    "            for word in text.split():\n",
    "                cnt[word] += 1\n",
    "\n",
    "        return cnt.most_common(10)\n",
    "    def __remove_freqwords(self,text):\n",
    "        \n",
    "        FREQWORDS = set([w for (w, wc) in count])\n",
    "        \"\"\"custom function to remove the frequent words\"\"\"\n",
    "        return \" \".join([word for word in str(text).split() if word not in FREQWORDS])\n",
    "    \n",
    "    def __remove_rarewords(self,text):\n",
    "        \n",
    "        RAREWORDS = set([w for (w, wc) in count[:-self.n_rare_words-1:-1]])\n",
    "        \"\"\"custom function to remove the rare words\"\"\"\n",
    "        return \" \".join([word for word in str(text).split() if word not in RAREWORDS])\n",
    "    def __stem_words(self,text):\n",
    "        \n",
    "        stemmer = PorterStemmer()\n",
    "        return \" \".join([stemmer.stem(word) for word in text.split()])\n",
    "\n",
    "\n",
    "    def Text_Preprocessing(self,data):\n",
    "        \n",
    "        try:\n",
    "            \n",
    "            data = data[['review','rating']]\n",
    "            data[\"review\"] = data[\"review\"].apply(lambda text: self.__remove_punctuation(text))\n",
    "            data[\"review\"] = data[\"review\"].apply(lambda text: self.__remove_stopwords(text))\n",
    "            data[\"review\"] = data[\"review\"].apply(lambda text: self.__remove_freqwords(text))\n",
    "            data[\"review\"] = data[\"review\"].apply(lambda text: self.__remove_rarewords(text))\n",
    "            data[\"review\"] = data[\"review\"].apply(lambda text: self.__stem_words(text))\n",
    "            data = data.astype(str).apply(lambda x: x.str.encode('ascii', 'ignore').str.decode('ascii'))\n",
    "            data['review'] = data['review'].str.replace('\\d+', '')\n",
    "            return data\n",
    "        \n",
    "        except ValueError as ve:\n",
    "            raise(ValueError(\"Error in Text Preprocessing {}\".format(ve)))\n"
   ]
  },
  {
   "cell_type": "code",
   "execution_count": null,
   "id": "119909e5",
   "metadata": {
    "colab": {
     "base_uri": "https://localhost:8080/"
    },
    "id": "119909e5",
    "outputId": "92b3d8d8-faa4-49f5-b9a3-ab4857ec4f99"
   },
   "outputs": [
    {
     "name": "stdout",
     "output_type": "stream",
     "text": [
      "Preprocessor object created\n"
     ]
    }
   ],
   "source": [
    "preprocess = dframe_Preprocessor(10)"
   ]
  },
  {
   "cell_type": "code",
   "execution_count": null,
   "id": "3c7fc151",
   "metadata": {
    "colab": {
     "base_uri": "https://localhost:8080/"
    },
    "id": "3c7fc151",
    "outputId": "6abaa028-6542-4972-e91c-c92001ddf0df"
   },
   "outputs": [
    {
     "data": {
      "text/plain": [
       "[('I', 883057),\n",
       " ('and', 563694),\n",
       " ('the', 484954),\n",
       " ('to', 425525),\n",
       " ('a', 376651),\n",
       " ('my', 330282),\n",
       " ('it', 266069),\n",
       " ('for', 260027),\n",
       " ('was', 229373),\n",
       " ('of', 226444)]"
      ]
     },
     "execution_count": 11,
     "metadata": {},
     "output_type": "execute_result"
    }
   ],
   "source": [
    "count = preprocess.Get_Most_Commom(df)\n",
    "count"
   ]
  },
  {
   "cell_type": "code",
   "execution_count": 1,
   "id": "JKf5ESbCTp19",
   "metadata": {
    "colab": {
     "base_uri": "https://localhost:8080/"
    },
    "id": "JKf5ESbCTp19",
    "outputId": "c6ce9cce-c860-449c-aef2-d4e6a9ac4f7a"
   },
   "outputs": [],
   "source": [
    "#import nltk\n",
    "#nltk.download('stopwords')"
   ]
  },
  {
   "cell_type": "code",
   "execution_count": null,
   "id": "1ee6264a",
   "metadata": {
    "colab": {
     "base_uri": "https://localhost:8080/",
     "height": 206
    },
    "id": "1ee6264a",
    "outputId": "e16958eb-fe96-49e7-8cfe-41b35b715aee"
   },
   "outputs": [
    {
     "data": {
      "text/html": [
       "\n",
       "  <div id=\"df-8e19689a-9de4-4c78-ad6a-e021de1794fb\">\n",
       "    <div class=\"colab-df-container\">\n",
       "      <div>\n",
       "<style scoped>\n",
       "    .dataframe tbody tr th:only-of-type {\n",
       "        vertical-align: middle;\n",
       "    }\n",
       "\n",
       "    .dataframe tbody tr th {\n",
       "        vertical-align: top;\n",
       "    }\n",
       "\n",
       "    .dataframe thead th {\n",
       "        text-align: right;\n",
       "    }\n",
       "</style>\n",
       "<table border=\"1\" class=\"dataframe\">\n",
       "  <thead>\n",
       "    <tr style=\"text-align: right;\">\n",
       "      <th></th>\n",
       "      <th>review</th>\n",
       "      <th>rating</th>\n",
       "    </tr>\n",
       "  </thead>\n",
       "  <tbody>\n",
       "    <tr>\n",
       "      <th>19663</th>\n",
       "      <td>my doctor put drug stop  month long menstrual ...</td>\n",
       "      <td>3.0</td>\n",
       "    </tr>\n",
       "    <tr>\n",
       "      <th>95748</th>\n",
       "      <td>recent start use solodyn sever acn start see r...</td>\n",
       "      <td>10.0</td>\n",
       "    </tr>\n",
       "    <tr>\n",
       "      <th>57563</th>\n",
       "      <td>plaquenil  mg twice day  year help tremend cou...</td>\n",
       "      <td>10.0</td>\n",
       "    </tr>\n",
       "    <tr>\n",
       "      <th>77368</th>\n",
       "      <td>implanon almost three year work amaz didnt wor...</td>\n",
       "      <td>10.0</td>\n",
       "    </tr>\n",
       "    <tr>\n",
       "      <th>46080</th>\n",
       "      <td>iv xenic  week iv lost  pound far im averag  p...</td>\n",
       "      <td>10.0</td>\n",
       "    </tr>\n",
       "  </tbody>\n",
       "</table>\n",
       "</div>\n",
       "      <button class=\"colab-df-convert\" onclick=\"convertToInteractive('df-8e19689a-9de4-4c78-ad6a-e021de1794fb')\"\n",
       "              title=\"Convert this dataframe to an interactive table.\"\n",
       "              style=\"display:none;\">\n",
       "        \n",
       "  <svg xmlns=\"http://www.w3.org/2000/svg\" height=\"24px\"viewBox=\"0 0 24 24\"\n",
       "       width=\"24px\">\n",
       "    <path d=\"M0 0h24v24H0V0z\" fill=\"none\"/>\n",
       "    <path d=\"M18.56 5.44l.94 2.06.94-2.06 2.06-.94-2.06-.94-.94-2.06-.94 2.06-2.06.94zm-11 1L8.5 8.5l.94-2.06 2.06-.94-2.06-.94L8.5 2.5l-.94 2.06-2.06.94zm10 10l.94 2.06.94-2.06 2.06-.94-2.06-.94-.94-2.06-.94 2.06-2.06.94z\"/><path d=\"M17.41 7.96l-1.37-1.37c-.4-.4-.92-.59-1.43-.59-.52 0-1.04.2-1.43.59L10.3 9.45l-7.72 7.72c-.78.78-.78 2.05 0 2.83L4 21.41c.39.39.9.59 1.41.59.51 0 1.02-.2 1.41-.59l7.78-7.78 2.81-2.81c.8-.78.8-2.07 0-2.86zM5.41 20L4 18.59l7.72-7.72 1.47 1.35L5.41 20z\"/>\n",
       "  </svg>\n",
       "      </button>\n",
       "      \n",
       "  <style>\n",
       "    .colab-df-container {\n",
       "      display:flex;\n",
       "      flex-wrap:wrap;\n",
       "      gap: 12px;\n",
       "    }\n",
       "\n",
       "    .colab-df-convert {\n",
       "      background-color: #E8F0FE;\n",
       "      border: none;\n",
       "      border-radius: 50%;\n",
       "      cursor: pointer;\n",
       "      display: none;\n",
       "      fill: #1967D2;\n",
       "      height: 32px;\n",
       "      padding: 0 0 0 0;\n",
       "      width: 32px;\n",
       "    }\n",
       "\n",
       "    .colab-df-convert:hover {\n",
       "      background-color: #E2EBFA;\n",
       "      box-shadow: 0px 1px 2px rgba(60, 64, 67, 0.3), 0px 1px 3px 1px rgba(60, 64, 67, 0.15);\n",
       "      fill: #174EA6;\n",
       "    }\n",
       "\n",
       "    [theme=dark] .colab-df-convert {\n",
       "      background-color: #3B4455;\n",
       "      fill: #D2E3FC;\n",
       "    }\n",
       "\n",
       "    [theme=dark] .colab-df-convert:hover {\n",
       "      background-color: #434B5C;\n",
       "      box-shadow: 0px 1px 3px 1px rgba(0, 0, 0, 0.15);\n",
       "      filter: drop-shadow(0px 1px 2px rgba(0, 0, 0, 0.3));\n",
       "      fill: #FFFFFF;\n",
       "    }\n",
       "  </style>\n",
       "\n",
       "      <script>\n",
       "        const buttonEl =\n",
       "          document.querySelector('#df-8e19689a-9de4-4c78-ad6a-e021de1794fb button.colab-df-convert');\n",
       "        buttonEl.style.display =\n",
       "          google.colab.kernel.accessAllowed ? 'block' : 'none';\n",
       "\n",
       "        async function convertToInteractive(key) {\n",
       "          const element = document.querySelector('#df-8e19689a-9de4-4c78-ad6a-e021de1794fb');\n",
       "          const dataTable =\n",
       "            await google.colab.kernel.invokeFunction('convertToInteractive',\n",
       "                                                     [key], {});\n",
       "          if (!dataTable) return;\n",
       "\n",
       "          const docLinkHtml = 'Like what you see? Visit the ' +\n",
       "            '<a target=\"_blank\" href=https://colab.research.google.com/notebooks/data_table.ipynb>data table notebook</a>'\n",
       "            + ' to learn more about interactive tables.';\n",
       "          element.innerHTML = '';\n",
       "          dataTable['output_type'] = 'display_data';\n",
       "          await google.colab.output.renderOutput(dataTable, element);\n",
       "          const docLink = document.createElement('div');\n",
       "          docLink.innerHTML = docLinkHtml;\n",
       "          element.appendChild(docLink);\n",
       "        }\n",
       "      </script>\n",
       "    </div>\n",
       "  </div>\n",
       "  "
      ],
      "text/plain": [
       "                                                  review rating\n",
       "19663  my doctor put drug stop  month long menstrual ...    3.0\n",
       "95748  recent start use solodyn sever acn start see r...   10.0\n",
       "57563  plaquenil  mg twice day  year help tremend cou...   10.0\n",
       "77368  implanon almost three year work amaz didnt wor...   10.0\n",
       "46080  iv xenic  week iv lost  pound far im averag  p...   10.0"
      ]
     },
     "execution_count": 16,
     "metadata": {},
     "output_type": "execute_result"
    }
   ],
   "source": [
    "df = preprocess.Text_Preprocessing(df)\n",
    "df.sample(n=5)"
   ]
  },
  {
   "cell_type": "markdown",
   "id": "1256d95d",
   "metadata": {
    "id": "1256d95d"
   },
   "source": [
    "## Train Test Split"
   ]
  },
  {
   "cell_type": "code",
   "execution_count": null,
   "id": "cebcaace",
   "metadata": {
    "id": "cebcaace"
   },
   "outputs": [],
   "source": [
    "from sklearn.model_selection import train_test_split\n",
    "class df_Preprocessor():\n",
    "\n",
    "    \n",
    "    def __init__(self):\n",
    "        \n",
    "        \n",
    "        print(\"Preprocessor object created\")\n",
    "        \n",
    "        \n",
    "    def preprocess(self,data):\n",
    "        \n",
    "        data['rating'] = pd.to_numeric(data['rating'],errors='coerce')\n",
    "        \n",
    "        data['Sentiment'] = np.where(data['rating'] > 6, 1, 0)\n",
    "        \n",
    "        data= data[['review','Sentiment']]\n",
    "        \n",
    "        x = data['review']\n",
    "        \n",
    "        y = data['Sentiment']\n",
    "        \n",
    "        return train_test_split(x,y,test_size=0.2, random_state=0)"
   ]
  },
  {
   "cell_type": "code",
   "execution_count": null,
   "id": "5b47ac8b",
   "metadata": {
    "colab": {
     "base_uri": "https://localhost:8080/"
    },
    "id": "5b47ac8b",
    "outputId": "1fbd4aaa-dbe7-4c3f-d7d3-3cb2506cab12"
   },
   "outputs": [
    {
     "name": "stdout",
     "output_type": "stream",
     "text": [
      "Preprocessor object created\n"
     ]
    }
   ],
   "source": [
    "PR = df_Preprocessor()"
   ]
  },
  {
   "cell_type": "code",
   "execution_count": null,
   "id": "52a688b6",
   "metadata": {
    "colab": {
     "base_uri": "https://localhost:8080/"
    },
    "id": "52a688b6",
    "outputId": "b12f3da9-c0de-4eae-874d-b998ef20521b"
   },
   "outputs": [
    {
     "data": {
      "text/plain": [
       "((172050,), (43013,), (172050,), (43013,))"
      ]
     },
     "execution_count": 19,
     "metadata": {},
     "output_type": "execute_result"
    }
   ],
   "source": [
    "X_train, X_test, y_train, y_test = PR.preprocess(df)\n",
    "X_train.shape,X_test.shape,y_train.shape,y_test.shape"
   ]
  },
  {
   "cell_type": "markdown",
   "id": "ef88e01d",
   "metadata": {
    "id": "ef88e01d"
   },
   "source": [
    "## Feature Engineering with Keras Tokenization and Pad Sequences"
   ]
  },
  {
   "cell_type": "code",
   "execution_count": null,
   "id": "d271ea5b",
   "metadata": {
    "id": "d271ea5b"
   },
   "outputs": [],
   "source": [
    "from tensorflow.keras.preprocessing.sequence import pad_sequences\n",
    "from tensorflow.keras.preprocessing import sequence\n",
    "from tensorflow.keras.preprocessing.text import Tokenizer\n",
    "from tensorflow.keras.preprocessing import text\n",
    "from keras.utils import np_utils\n",
    "from keras.models import Sequential"
   ]
  },
  {
   "cell_type": "code",
   "execution_count": null,
   "id": "f2b7dd97",
   "metadata": {
    "id": "f2b7dd97"
   },
   "outputs": [],
   "source": [
    "class Keras_Tokenizer():\n",
    "\n",
    "    \n",
    "    def __init__(self,max_features):\n",
    "        \n",
    "        self.max_features =6000\n",
    "        \n",
    "        \n",
    "        print(\"Tokenizer object created\")\n",
    "        \n",
    "        \n",
    "    def __label_encoding(self,y_train):\n",
    "        \"\"\"\n",
    "        Encode the given list of class labels\n",
    "        :y_train_enc: returns list of encoded classes\n",
    "        :labels: actual class labels\n",
    "        \"\"\"\n",
    "        lbl_enc = LabelEncoder()\n",
    "\n",
    "        y_train_enc = lbl_enc.fit_transform(y_train)\n",
    "        labels = lbl_enc.classes_\n",
    "\n",
    "        return y_train_enc, labels\n",
    "    def __word_embedding(self,train, test, max_features, max_len=200):\n",
    "        \n",
    "        \n",
    "        try:\n",
    "            \"\"\" Keras Tokenizer class object \"\"\"\n",
    "            tokenizer = text.Tokenizer(num_words=max_features)\n",
    "            tokenizer.fit_on_texts(train)\n",
    "\n",
    "            train_data = tokenizer.texts_to_sequences(train)\n",
    "            test_data = tokenizer.texts_to_sequences(test)\n",
    "\n",
    "            \"\"\" Get the max_len \"\"\"\n",
    "            vocab_size = len(tokenizer.word_index) + 1\n",
    "\n",
    "            \"\"\" Padd the sequence based on the max-length \"\"\"\n",
    "            x_train = sequence.pad_sequences(train_data, maxlen=max_len, padding='post')\n",
    "            x_test = sequence.pad_sequences(test_data, maxlen=max_len, padding='post')\n",
    "            \"\"\" Return train, test and vocab size \"\"\"\n",
    "            return tokenizer, x_train, x_test, vocab_size\n",
    "        except ValueError as ve:\n",
    "            raise(ValueError(\"Error in word embedding {}\".format(ve)))\n",
    "            \n",
    "            \n",
    "    def preprocess(self,X_train, X_test):\n",
    "        \n",
    "    \n",
    "        return self.__word_embedding(X_train, X_test, self.max_features)"
   ]
  },
  {
   "cell_type": "code",
   "execution_count": null,
   "id": "2fa7f1b8",
   "metadata": {
    "colab": {
     "base_uri": "https://localhost:8080/"
    },
    "id": "2fa7f1b8",
    "outputId": "f3035c12-6c80-4632-b93d-f1d34635f7dc"
   },
   "outputs": [
    {
     "name": "stdout",
     "output_type": "stream",
     "text": [
      "Tokenizer object created\n"
     ]
    }
   ],
   "source": [
    "KT = Keras_Tokenizer(6000)"
   ]
  },
  {
   "cell_type": "code",
   "execution_count": null,
   "id": "26967af3",
   "metadata": {
    "id": "26967af3"
   },
   "outputs": [],
   "source": [
    "tokenizer, x_pad_train, x_pad_valid, vocab_size = KT.preprocess(X_train, X_test)"
   ]
  },
  {
   "cell_type": "code",
   "execution_count": null,
   "id": "00ef9099",
   "metadata": {
    "colab": {
     "base_uri": "https://localhost:8080/"
    },
    "id": "00ef9099",
    "outputId": "7b7f79dc-ab4d-4513-fffa-cc6d629c3bad"
   },
   "outputs": [
    {
     "data": {
      "text/plain": [
       "((172050, 200), (43013, 200), 58529)"
      ]
     },
     "execution_count": 24,
     "metadata": {},
     "output_type": "execute_result"
    }
   ],
   "source": [
    "x_pad_train.shape,x_pad_valid.shape,vocab_size"
   ]
  },
  {
   "cell_type": "markdown",
   "id": "2fdbe0a0",
   "metadata": {
    "id": "2fdbe0a0"
   },
   "source": [
    "## Modelling RNN"
   ]
  },
  {
   "cell_type": "code",
   "execution_count": null,
   "id": "fee9d9e8",
   "metadata": {
    "id": "fee9d9e8"
   },
   "outputs": [],
   "source": [
    "# Birectional lstm Architecture"
   ]
  },
  {
   "cell_type": "code",
   "execution_count": null,
   "id": "15ccfdec",
   "metadata": {
    "id": "15ccfdec"
   },
   "outputs": [],
   "source": [
    "from tensorflow import keras\n",
    "class RNN_Bidirectional_lstm_Build_Pack():\n",
    "\n",
    "    \n",
    "    def __init__(self, input_length, output_length,vocab_size, optimizer,loss, metrics,batch_size,epochs,verbose):\n",
    "        \n",
    "        self.input_length =200\n",
    "        self.output_length= 200\n",
    "        self.vocab_size = 33068\n",
    "        self.optimizer = 'adam'\n",
    "        self.loss = 'binary_crossentropy'\n",
    "        self.metrics = ['acc']\n",
    "        self.batch_size = 256\n",
    "        self.epochs = 20\n",
    "        self.verbose = 1\n",
    "        \n",
    "        print(\"Tokenizer object created\")\n",
    "        \n",
    "    def build_rnn(self,vocab_size,output_dim, input_dim):\n",
    "\n",
    "        model = Sequential([\n",
    "            keras.layers.Embedding(self.vocab_size,output_dim = self.output_length,\n",
    "                                  input_length = self.input_length),\n",
    "            keras.layers.BatchNormalization(),\n",
    "            keras.layers.Bidirectional(keras.layers.LSTM(256,return_sequences=True)),\n",
    "            keras.layers.GlobalMaxPool1D(),\n",
    "            keras.layers.Dense(225,activation='relu'),\n",
    "            keras.layers.Dropout(0.3),\n",
    "            keras.layers.Dense(150,activation='relu'),\n",
    "            keras.layers.Dropout(0.2),\n",
    "            keras.layers.Dense(95,activation='relu'),\n",
    "            keras.layers.Dropout(0.2),\n",
    "            keras.layers.Dense(64,activation='relu'),\n",
    "            keras.layers.Dropout(0.1),\n",
    "            keras.layers.Dense(34,activation='relu'),\n",
    "            keras.layers.Dropout(0.1),\n",
    "            keras.layers.Dense(32,activation='relu'),\n",
    "            keras.layers.Dense(output_dim, activation='sigmoid')\n",
    "        ])\n",
    "\n",
    "        return model\n",
    "    \n",
    "    def Compile_and_Fit(self,rnn_model):\n",
    "        \n",
    "        try:\n",
    "    \n",
    "            rnn_model.compile(optimizer=self.optimizer, loss=self.loss, metrics=self.metrics)\n",
    "\n",
    "            rnn_model.fit(x_pad_train, \n",
    "                                    y_train,\n",
    "                                    batch_size=self.batch_size,\n",
    "                                   epochs=self.epochs,\n",
    "                                   verbose= self.verbose)\n",
    "\n",
    "            score = rnn_model.evaluate(x_pad_valid, y_test, verbose=1)\n",
    "\n",
    "            print(\"Loss:%.3f Accuracy: %.3f\" % (score[0], score[1]))\n",
    "\n",
    "            return rnn_model\n",
    "        \n",
    "        except ValueError as Model_Error:\n",
    "            raise(ValueError(\"Model Compiling Error {}\".format(Model_Error)))"
   ]
  },
  {
   "cell_type": "code",
   "execution_count": null,
   "id": "b9794f4f",
   "metadata": {
    "colab": {
     "base_uri": "https://localhost:8080/"
    },
    "id": "b9794f4f",
    "outputId": "e2f5aafa-e9de-4658-bf3e-487d5604fdc3"
   },
   "outputs": [
    {
     "name": "stdout",
     "output_type": "stream",
     "text": [
      "Tokenizer object created\n"
     ]
    }
   ],
   "source": [
    "Rnn_Model = RNN_Bidirectional_lstm_Build_Pack(200,200,33068,'adam','binary_crossentropy',['acc'],256,10,1)"
   ]
  },
  {
   "cell_type": "code",
   "execution_count": null,
   "id": "355a8b54",
   "metadata": {
    "colab": {
     "base_uri": "https://localhost:8080/"
    },
    "id": "355a8b54",
    "outputId": "52936a35-f572-4f50-e458-53180cd30710"
   },
   "outputs": [
    {
     "name": "stdout",
     "output_type": "stream",
     "text": [
      "Model: \"sequential\"\n",
      "_________________________________________________________________\n",
      " Layer (type)                Output Shape              Param #   \n",
      "=================================================================\n",
      " embedding (Embedding)       (None, 200, 200)          6613600   \n",
      "                                                                 \n",
      " batch_normalization (BatchN  (None, 200, 200)         800       \n",
      " ormalization)                                                   \n",
      "                                                                 \n",
      " bidirectional (Bidirectiona  (None, 200, 512)         935936    \n",
      " l)                                                              \n",
      "                                                                 \n",
      " global_max_pooling1d (Globa  (None, 512)              0         \n",
      " lMaxPooling1D)                                                  \n",
      "                                                                 \n",
      " dense (Dense)               (None, 225)               115425    \n",
      "                                                                 \n",
      " dropout (Dropout)           (None, 225)               0         \n",
      "                                                                 \n",
      " dense_1 (Dense)             (None, 150)               33900     \n",
      "                                                                 \n",
      " dropout_1 (Dropout)         (None, 150)               0         \n",
      "                                                                 \n",
      " dense_2 (Dense)             (None, 95)                14345     \n",
      "                                                                 \n",
      " dropout_2 (Dropout)         (None, 95)                0         \n",
      "                                                                 \n",
      " dense_3 (Dense)             (None, 64)                6144      \n",
      "                                                                 \n",
      " dropout_3 (Dropout)         (None, 64)                0         \n",
      "                                                                 \n",
      " dense_4 (Dense)             (None, 34)                2210      \n",
      "                                                                 \n",
      " dropout_4 (Dropout)         (None, 34)                0         \n",
      "                                                                 \n",
      " dense_5 (Dense)             (None, 32)                1120      \n",
      "                                                                 \n",
      " dense_6 (Dense)             (None, 1)                 33        \n",
      "                                                                 \n",
      "=================================================================\n",
      "Total params: 7,723,513\n",
      "Trainable params: 7,723,113\n",
      "Non-trainable params: 400\n",
      "_________________________________________________________________\n"
     ]
    }
   ],
   "source": [
    "rnn_model = Rnn_Model.build_rnn(vocab_size,1,200)\n",
    "rnn_model.summary()"
   ]
  },
  {
   "cell_type": "code",
   "execution_count": 28,
   "id": "00096cf1",
   "metadata": {
    "colab": {
     "base_uri": "https://localhost:8080/"
    },
    "id": "00096cf1",
    "outputId": "8e94bf3c-0968-4806-e628-b2cda9dffaf8"
   },
   "outputs": [
    {
     "name": "stdout",
     "output_type": "stream",
     "text": [
      "Epoch 1/20\n",
      "673/673 [==============================] - 109s 151ms/step - loss: 0.4240 - acc: 0.8031\n",
      "Epoch 2/20\n",
      "673/673 [==============================] - 103s 154ms/step - loss: 0.3011 - acc: 0.8734\n",
      "Epoch 3/20\n",
      "673/673 [==============================] - 103s 153ms/step - loss: 0.2271 - acc: 0.9086\n",
      "Epoch 4/20\n",
      "673/673 [==============================] - 103s 153ms/step - loss: 0.1661 - acc: 0.9359\n",
      "Epoch 5/20\n",
      "673/673 [==============================] - 103s 153ms/step - loss: 0.1163 - acc: 0.9561\n",
      "Epoch 6/20\n",
      "673/673 [==============================] - 103s 153ms/step - loss: 0.0838 - acc: 0.9687\n",
      "Epoch 7/20\n",
      "673/673 [==============================] - 103s 153ms/step - loss: 0.0619 - acc: 0.9771\n",
      "Epoch 8/20\n",
      "673/673 [==============================] - 103s 153ms/step - loss: 0.0524 - acc: 0.9811\n",
      "Epoch 9/20\n",
      "673/673 [==============================] - 103s 153ms/step - loss: 0.0412 - acc: 0.9850\n",
      "Epoch 10/20\n",
      "673/673 [==============================] - 103s 153ms/step - loss: 0.0358 - acc: 0.9872\n",
      "Epoch 11/20\n",
      "673/673 [==============================] - 102s 152ms/step - loss: 0.0356 - acc: 0.9873\n",
      "Epoch 12/20\n",
      "673/673 [==============================] - 102s 152ms/step - loss: 0.0303 - acc: 0.9893\n",
      "Epoch 13/20\n",
      "673/673 [==============================] - 102s 152ms/step - loss: 0.0278 - acc: 0.9903\n",
      "Epoch 14/20\n",
      "673/673 [==============================] - 102s 152ms/step - loss: 0.0277 - acc: 0.9903\n",
      "Epoch 15/20\n",
      "673/673 [==============================] - 102s 152ms/step - loss: 0.0259 - acc: 0.9909\n",
      "Epoch 16/20\n",
      "673/673 [==============================] - 102s 152ms/step - loss: 0.0241 - acc: 0.9914\n",
      "Epoch 17/20\n",
      "673/673 [==============================] - 102s 152ms/step - loss: 0.0227 - acc: 0.9919\n",
      "Epoch 18/20\n",
      "673/673 [==============================] - 102s 152ms/step - loss: 0.0226 - acc: 0.9923\n",
      "Epoch 19/20\n",
      "673/673 [==============================] - 103s 152ms/step - loss: 0.0216 - acc: 0.9927\n",
      "Epoch 20/20\n",
      "673/673 [==============================] - 103s 152ms/step - loss: 0.0212 - acc: 0.9930\n",
      "1345/1345 [==============================] - 17s 12ms/step - loss: 0.3629 - acc: 0.9293\n",
      "Loss:0.363 Accuracy: 0.929\n"
     ]
    }
   ],
   "source": [
    "rnn_model = Rnn_Model.Compile_and_Fit(rnn_model)"
   ]
  },
  {
   "cell_type": "markdown",
   "id": "a87f86ad",
   "metadata": {
    "id": "a87f86ad"
   },
   "source": [
    "## Predict"
   ]
  },
  {
   "cell_type": "code",
   "execution_count": 29,
   "id": "efebc8d6",
   "metadata": {
    "colab": {
     "base_uri": "https://localhost:8080/",
     "height": 261
    },
    "id": "efebc8d6",
    "outputId": "a5117fae-86f4-4d84-aced-c5264bc42897"
   },
   "outputs": [
    {
     "name": "stdout",
     "output_type": "stream",
     "text": [
      "1345/1345 [==============================] - 15s 10ms/step\n",
      "y_preds Shape :: (43013, 1)\n",
      "(43013, 1)\n"
     ]
    },
    {
     "data": {
      "text/html": [
       "\n",
       "  <div id=\"df-5a3d7634-3d8c-42f6-94c7-7d96b9896304\">\n",
       "    <div class=\"colab-df-container\">\n",
       "      <div>\n",
       "<style scoped>\n",
       "    .dataframe tbody tr th:only-of-type {\n",
       "        vertical-align: middle;\n",
       "    }\n",
       "\n",
       "    .dataframe tbody tr th {\n",
       "        vertical-align: top;\n",
       "    }\n",
       "\n",
       "    .dataframe thead th {\n",
       "        text-align: right;\n",
       "    }\n",
       "</style>\n",
       "<table border=\"1\" class=\"dataframe\">\n",
       "  <thead>\n",
       "    <tr style=\"text-align: right;\">\n",
       "      <th></th>\n",
       "      <th>pred</th>\n",
       "    </tr>\n",
       "  </thead>\n",
       "  <tbody>\n",
       "    <tr>\n",
       "      <th>0</th>\n",
       "      <td>0</td>\n",
       "    </tr>\n",
       "    <tr>\n",
       "      <th>1</th>\n",
       "      <td>1</td>\n",
       "    </tr>\n",
       "    <tr>\n",
       "      <th>2</th>\n",
       "      <td>0</td>\n",
       "    </tr>\n",
       "    <tr>\n",
       "      <th>3</th>\n",
       "      <td>1</td>\n",
       "    </tr>\n",
       "    <tr>\n",
       "      <th>4</th>\n",
       "      <td>1</td>\n",
       "    </tr>\n",
       "  </tbody>\n",
       "</table>\n",
       "</div>\n",
       "      <button class=\"colab-df-convert\" onclick=\"convertToInteractive('df-5a3d7634-3d8c-42f6-94c7-7d96b9896304')\"\n",
       "              title=\"Convert this dataframe to an interactive table.\"\n",
       "              style=\"display:none;\">\n",
       "        \n",
       "  <svg xmlns=\"http://www.w3.org/2000/svg\" height=\"24px\"viewBox=\"0 0 24 24\"\n",
       "       width=\"24px\">\n",
       "    <path d=\"M0 0h24v24H0V0z\" fill=\"none\"/>\n",
       "    <path d=\"M18.56 5.44l.94 2.06.94-2.06 2.06-.94-2.06-.94-.94-2.06-.94 2.06-2.06.94zm-11 1L8.5 8.5l.94-2.06 2.06-.94-2.06-.94L8.5 2.5l-.94 2.06-2.06.94zm10 10l.94 2.06.94-2.06 2.06-.94-2.06-.94-.94-2.06-.94 2.06-2.06.94z\"/><path d=\"M17.41 7.96l-1.37-1.37c-.4-.4-.92-.59-1.43-.59-.52 0-1.04.2-1.43.59L10.3 9.45l-7.72 7.72c-.78.78-.78 2.05 0 2.83L4 21.41c.39.39.9.59 1.41.59.51 0 1.02-.2 1.41-.59l7.78-7.78 2.81-2.81c.8-.78.8-2.07 0-2.86zM5.41 20L4 18.59l7.72-7.72 1.47 1.35L5.41 20z\"/>\n",
       "  </svg>\n",
       "      </button>\n",
       "      \n",
       "  <style>\n",
       "    .colab-df-container {\n",
       "      display:flex;\n",
       "      flex-wrap:wrap;\n",
       "      gap: 12px;\n",
       "    }\n",
       "\n",
       "    .colab-df-convert {\n",
       "      background-color: #E8F0FE;\n",
       "      border: none;\n",
       "      border-radius: 50%;\n",
       "      cursor: pointer;\n",
       "      display: none;\n",
       "      fill: #1967D2;\n",
       "      height: 32px;\n",
       "      padding: 0 0 0 0;\n",
       "      width: 32px;\n",
       "    }\n",
       "\n",
       "    .colab-df-convert:hover {\n",
       "      background-color: #E2EBFA;\n",
       "      box-shadow: 0px 1px 2px rgba(60, 64, 67, 0.3), 0px 1px 3px 1px rgba(60, 64, 67, 0.15);\n",
       "      fill: #174EA6;\n",
       "    }\n",
       "\n",
       "    [theme=dark] .colab-df-convert {\n",
       "      background-color: #3B4455;\n",
       "      fill: #D2E3FC;\n",
       "    }\n",
       "\n",
       "    [theme=dark] .colab-df-convert:hover {\n",
       "      background-color: #434B5C;\n",
       "      box-shadow: 0px 1px 3px 1px rgba(0, 0, 0, 0.15);\n",
       "      filter: drop-shadow(0px 1px 2px rgba(0, 0, 0, 0.3));\n",
       "      fill: #FFFFFF;\n",
       "    }\n",
       "  </style>\n",
       "\n",
       "      <script>\n",
       "        const buttonEl =\n",
       "          document.querySelector('#df-5a3d7634-3d8c-42f6-94c7-7d96b9896304 button.colab-df-convert');\n",
       "        buttonEl.style.display =\n",
       "          google.colab.kernel.accessAllowed ? 'block' : 'none';\n",
       "\n",
       "        async function convertToInteractive(key) {\n",
       "          const element = document.querySelector('#df-5a3d7634-3d8c-42f6-94c7-7d96b9896304');\n",
       "          const dataTable =\n",
       "            await google.colab.kernel.invokeFunction('convertToInteractive',\n",
       "                                                     [key], {});\n",
       "          if (!dataTable) return;\n",
       "\n",
       "          const docLinkHtml = 'Like what you see? Visit the ' +\n",
       "            '<a target=\"_blank\" href=https://colab.research.google.com/notebooks/data_table.ipynb>data table notebook</a>'\n",
       "            + ' to learn more about interactive tables.';\n",
       "          element.innerHTML = '';\n",
       "          dataTable['output_type'] = 'display_data';\n",
       "          await google.colab.output.renderOutput(dataTable, element);\n",
       "          const docLink = document.createElement('div');\n",
       "          docLink.innerHTML = docLinkHtml;\n",
       "          element.appendChild(docLink);\n",
       "        }\n",
       "      </script>\n",
       "    </div>\n",
       "  </div>\n",
       "  "
      ],
      "text/plain": [
       "   pred\n",
       "0     0\n",
       "1     1\n",
       "2     0\n",
       "3     1\n",
       "4     1"
      ]
     },
     "execution_count": 29,
     "metadata": {},
     "output_type": "execute_result"
    }
   ],
   "source": [
    "y_preds = rnn_model.predict(x_pad_valid)\n",
    "\n",
    "print(\"y_preds Shape ::\",y_preds.shape)\n",
    "\n",
    "\n",
    "for arr in y_preds:\n",
    "    for i in range(len(arr)):\n",
    "        if arr[i]>0.5:\n",
    "            arr[i] = 1\n",
    "        else:\n",
    "            arr[i] = 0\n",
    "\n",
    "            \n",
    "y_preds = y_preds.astype('int32')\n",
    "\n",
    "pred_df = pd.DataFrame(y_preds, columns=['pred'])\n",
    "\n",
    "print(pred_df.shape)\n",
    "pred_df.head()"
   ]
  },
  {
   "cell_type": "code",
   "execution_count": 30,
   "id": "mn-ZQoQoeWle",
   "metadata": {
    "colab": {
     "base_uri": "https://localhost:8080/"
    },
    "id": "mn-ZQoQoeWle",
    "outputId": "4fbb5437-5639-4cc4-83e2-ce537afdd1ce"
   },
   "outputs": [
    {
     "data": {
      "text/plain": [
       "pred\n",
       "1       28396\n",
       "0       14617\n",
       "dtype: int64"
      ]
     },
     "execution_count": 30,
     "metadata": {},
     "output_type": "execute_result"
    }
   ],
   "source": [
    "pred_df.value_counts()"
   ]
  },
  {
   "cell_type": "markdown",
   "id": "bLQkcoDeeoIS",
   "metadata": {
    "id": "bLQkcoDeeoIS"
   },
   "source": [
    "Metrics"
   ]
  },
  {
   "cell_type": "code",
   "execution_count": 31,
   "id": "z4_ABay3epmp",
   "metadata": {
    "colab": {
     "base_uri": "https://localhost:8080/"
    },
    "id": "z4_ABay3epmp",
    "outputId": "40376053-7c8d-45d7-fb19-1441d71e5485"
   },
   "outputs": [
    {
     "name": "stdout",
     "output_type": "stream",
     "text": [
      "0.9293236928370493\n",
      "[[13115  1538]\n",
      " [ 1502 26858]]\n",
      "              precision    recall  f1-score   support\n",
      "\n",
      "           0       0.90      0.90      0.90     14653\n",
      "           1       0.95      0.95      0.95     28360\n",
      "\n",
      "    accuracy                           0.93     43013\n",
      "   macro avg       0.92      0.92      0.92     43013\n",
      "weighted avg       0.93      0.93      0.93     43013\n",
      "\n"
     ]
    }
   ],
   "source": [
    "from sklearn import metrics\n",
    "from sklearn.metrics import classification_report\n",
    "from sklearn.metrics import confusion_matrix\n",
    "\n",
    "print(metrics.accuracy_score(y_test, pred_df))\n",
    "        \n",
    "print(metrics.confusion_matrix(y_test, pred_df))\n",
    "        \n",
    "print(metrics.classification_report(y_test, pred_df))"
   ]
  },
  {
   "cell_type": "markdown",
   "id": "KWysJhw1e76q",
   "metadata": {
    "id": "KWysJhw1e76q"
   },
   "source": [
    "Model Serialization"
   ]
  },
  {
   "cell_type": "code",
   "execution_count": 32,
   "id": "6ikcKnwQe_Ed",
   "metadata": {
    "id": "6ikcKnwQe_Ed"
   },
   "outputs": [],
   "source": [
    "rnn_model.save(\"rnn_model.h5\")"
   ]
  },
  {
   "cell_type": "markdown",
   "id": "fHrXhMBWfG8g",
   "metadata": {
    "id": "fHrXhMBWfG8g"
   },
   "source": [
    "Tokenizer Serialization"
   ]
  },
  {
   "cell_type": "code",
   "execution_count": 33,
   "id": "YaCRFAosfIMb",
   "metadata": {
    "id": "YaCRFAosfIMb"
   },
   "outputs": [],
   "source": [
    "import pickle\n",
    "with open('tokenizer.pickle', 'wb') as handle:\n",
    "    pickle.dump(tokenizer, handle, protocol=pickle.HIGHEST_PROTOCOL)"
   ]
  },
  {
   "cell_type": "code",
   "execution_count": null,
   "id": "CBsTu5FNfVIe",
   "metadata": {
    "id": "CBsTu5FNfVIe"
   },
   "outputs": [],
   "source": []
  }
 ],
 "metadata": {
  "accelerator": "GPU",
  "colab": {
   "provenance": []
  },
  "gpuClass": "standard",
  "kernelspec": {
   "display_name": "Python 3 (ipykernel)",
   "language": "python",
   "name": "python3"
  },
  "language_info": {
   "codemirror_mode": {
    "name": "ipython",
    "version": 3
   },
   "file_extension": ".py",
   "mimetype": "text/x-python",
   "name": "python",
   "nbconvert_exporter": "python",
   "pygments_lexer": "ipython3",
   "version": "3.9.12"
  }
 },
 "nbformat": 4,
 "nbformat_minor": 5
}
